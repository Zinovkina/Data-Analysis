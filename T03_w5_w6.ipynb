{
 "cells": [
  {
   "cell_type": "markdown",
   "metadata": {
    "toc": true
   },
   "source": [
    "<h1>Table of Contents<span class=\"tocSkip\"></span></h1>\n",
    "<div class=\"toc\"><ul class=\"toc-item\"><li><span><a href=\"#Тема-3.-Функции\" data-toc-modified-id=\"Тема-3.-Функции-1\"><span class=\"toc-item-num\">1&nbsp;&nbsp;</span>Тема 3. Функции</a></span></li><li><span><a href=\"#Задания\" data-toc-modified-id=\"Задания-2\"><span class=\"toc-item-num\">2&nbsp;&nbsp;</span>Задания</a></span></li></ul></div>"
   ]
  },
  {
   "cell_type": "markdown",
   "metadata": {},
   "source": [
    "\n",
    "# Тема 3. Функции"
   ]
  },
  {
   "cell_type": "markdown",
   "metadata": {},
   "source": [
    "# Задания\n",
    "\n",
    "Выполните задания\n",
    "\n"
   ]
  },
  {
   "cell_type": "markdown",
   "metadata": {},
   "source": [
    "1. Имеется список из 20 случайных чисел от 0 до 100. Напишите функцию, которая разбивает этот список на $n$ списков по $k$ элементов и включает все эти списки в новый список. Используйте $k$ в качестве параметра функции.\n",
    "\n",
    "2. Напишите функцию, вычисляющую факториал числа, передаваемого в качестве параметра.\n",
    "\n",
    "3. Написать функцию умножения, принимающую от одного до трех параметров. Функцию вызвать с приведенными ниже аргументами. Для случая a4 выбрать 3 первых и 3 последних значения.\n",
    "```\n",
    "a1 = (15, 10 ,5)\n",
    "a2 = (3, 1)\n",
    "a3 = [2, 35, 55]\n",
    "a4 = (5, 10 ,15, 20)\n",
    "```\n",
    "\n",
    "4. Напишите функцию, которая для заданного радиуса r вычисляет площадь круга и длину окружности. Функция возвращает кортеж из 2 значений.\n",
    "\n",
    "5. Реализовать функции для выполнения четырех арифметических операций, преобразующих целые числа в целое число. Создать словарь с функциями исоответствующими им симв олами операций. Для двух заранее заданных целых чисел (например, 25 и 4) выполнить выбранную пользователем арифметическую операцию.\n",
    "\n",
    "6. Написать калькулятор для строковых выражений вида '<число> <операция> <число>', где <число> - целое число, например 113, <арифметическая операция> - одна из операций `+,-,*,//,%,^`. Пример: `calc('13 - 5') -> 8`\n",
    "\n",
    "7. Написать функцию, которая преобразует целое число (от 0 до 999) из текстового представления на русском языке в число типа int. Пример: `to_int('тридцать три') -> 33`\n",
    "\n",
    "8. Написать функцию, которая преобразует целое число (от 0 до 999) из текстового представления на русском языке в число типа int. И сообщает об ошибках (выводит на экран описание типа ошибки и возвращает число -1). Пример: to_int('тридцать три') -> 33 Пример: to_int(\"сто сорок тридцать два сто\") -> -1 Вывод: тридцать - некорректное расположение в числе."
   ]
  },
  {
   "cell_type": "code",
   "execution_count": null,
   "metadata": {},
   "outputs": [],
   "source": [
    "#Имеется список из 20 случайных чисел от 0 до 100. Напишите функцию, которая разбивает этот список на  𝑛 списков по  𝑘 элементов и включает все эти списки в новый список. Используйте  𝑘  в качестве параметра функции.\n",
    "\n"
   ]
  },
  {
   "cell_type": "code",
   "execution_count": 18,
   "metadata": {},
   "outputs": [
    {
     "name": "stdout",
     "output_type": "stream",
     "text": [
      "Факториал числа 8 равен 40320.\n"
     ]
    }
   ],
   "source": [
    "#Напишите функцию, вычисляющую факториал числа, передаваемого в качестве параметра.\n",
    "\n",
    "def factorial(n):\n",
    "    if n < 0:\n",
    "        print(\"Ошибка! Факториал определен только для неотрицательных целых чисел.\")\n",
    "        return None\n",
    "\n",
    "    result = 1\n",
    "    for i in range(1, n + 1):\n",
    "        result *= i\n",
    "\n",
    "    return result\n",
    "\n",
    "number = 8\n",
    "factorial_result = factorial(number)\n",
    "\n",
    "if factorial_result is not None:\n",
    "    print(f\"Факториал числа {number} равен {factorial_result}.\")"
   ]
  },
  {
   "cell_type": "code",
   "execution_count": 16,
   "metadata": {},
   "outputs": [
    {
     "name": "stdout",
     "output_type": "stream",
     "text": [
      "Результат умножения a1: 750\n",
      "Результат умножения a2: 3\n",
      "Результат умножения a3: 3850\n",
      "Результат умножения a4 (3 первых и 3 последних значения): 2250000\n"
     ]
    }
   ],
   "source": [
    "#Написать функцию умножения, принимающую от одного до трех параметров. Функцию вызвать с приведенными ниже аргументами. Для случая a4 выбрать 3 первых и 3 последних значения.\n",
    "#a1 = (15, 10 ,5)\n",
    "#a2 = (3, 1)\n",
    "#a3 = [2, 35, 55]\n",
    "#a4 = (5, 10 ,15, 20)\n",
    "\n",
    "def m(*args):\n",
    "    result = 1\n",
    "\n",
    "    for value in args:\n",
    "        result *= value\n",
    "\n",
    "    return result\n",
    "\n",
    "a1 = (15, 10, 5)\n",
    "result_a1 = m(*a1)\n",
    "print(f\"Результат умножения a1: {result_a1}\")\n",
    "\n",
    "a2 = (3, 1)\n",
    "result_a2 = m(*a2)\n",
    "print(f\"Результат умножения a2: {result_a2}\")\n",
    "\n",
    "a3 = [2, 35, 55]\n",
    "result_a3 = m(*a3)\n",
    "print(f\"Результат умножения a3: {result_a3}\")\n",
    "\n",
    "a4 = (5, 10, 15, 20)\n",
    "result_a4 = m(*a4[:3]) * m(*a4[-3:])\n",
    "print(f\"Результат умножения a4 (3 первых и 3 последних значения): {result_a4}\")"
   ]
  },
  {
   "cell_type": "code",
   "execution_count": 19,
   "metadata": {},
   "outputs": [
    {
     "name": "stdout",
     "output_type": "stream",
     "text": [
      "Площадь круга: 530.929158456675\n",
      "Длина окружности: 81.68140899333463\n"
     ]
    }
   ],
   "source": [
    "#Напишите функцию, которая для заданного радиуса r вычисляет площадь круга и длину окружности. Функция возвращает кортеж из 2 значений.\n",
    "\n",
    "import math\n",
    "\n",
    "def calculate_circle(r):\n",
    "    area = math.pi * r**2\n",
    "    circumference = 2 * math.pi * r\n",
    "    return (area, circumference)\n",
    "radius = 13\n",
    "result = calculate_circle(radius)\n",
    "print(f\"Площадь круга: {result[0]}\")\n",
    "print(f\"Длина окружности: {result[1]}\")"
   ]
  },
  {
   "cell_type": "code",
   "execution_count": 25,
   "metadata": {},
   "outputs": [
    {
     "name": "stdout",
     "output_type": "stream",
     "text": [
      "Выберите операцию (+, -, *, /): -\n",
      "Результат: 21\n"
     ]
    }
   ],
   "source": [
    "#Реализовать функции для выполнения четырех арифметических операций, преобразующих целые числа в целое число. Создать словарь с функциями исоответствующими им симв олами операций. Для двух заранее заданных целых чисел (например, 25 и 4) выполнить выбранную пользователем арифметическую операцию.\n",
    "\n",
    "def plus(x, y):\n",
    "    return x + y\n",
    "\n",
    "def minus(x, y):\n",
    "    return x - y\n",
    "\n",
    "def multiply(x, y):\n",
    "    return x * y\n",
    "\n",
    "def divide(x, y):\n",
    "    return x / y\n",
    "\n",
    "operations = {\n",
    "    '+': add,\n",
    "    '-': subtract,\n",
    "    '*': multiply,\n",
    "    '/': divide}\n",
    "x = 25\n",
    "y = 4\n",
    "operation = input(\"Выберите операцию (+, -, *, /): \")\n",
    "\n",
    "result = operations[operation](x, y)\n",
    "print(f\"Результат: {result}\")\n"
   ]
  },
  {
   "cell_type": "code",
   "execution_count": 3,
   "metadata": {},
   "outputs": [
    {
     "name": "stdout",
     "output_type": "stream",
     "text": [
      "8\n"
     ]
    }
   ],
   "source": [
    "#Написать калькулятор для строковых выражений вида '<число> <операция> <число>', где <число> - целое число, например 113, <арифметическая операция> - одна из операций +,-,*,//,%,^. Пример: calc('13 - 5') -> 8\n",
    "\n",
    "def calc(expression):\n",
    "    parts = expression.split()\n",
    "    if len(parts) != 3:\n",
    "        return 'Некорректное выражение'\n",
    "\n",
    "    num1 = int(parts[0])\n",
    "    operator = parts[1]\n",
    "    num2 = int(parts[2])\n",
    "    if operator == '+':\n",
    "        return num1 + num2\n",
    "    elif operator == '-':\n",
    "        return num1 - num2\n",
    "    elif operator == '*':\n",
    "        return num1 * num2\n",
    "    elif operator == '//':\n",
    "        return num1 // num2\n",
    "    elif operator == '%':\n",
    "        return num1 % num2\n",
    "    elif operator == '^':\n",
    "        return num1 ** num2\n",
    "    else:\n",
    "        return 'Некорректная операция'\n",
    "result = calc('13 - 5')\n",
    "print(result)\n"
   ]
  },
  {
   "cell_type": "code",
   "execution_count": 3,
   "metadata": {},
   "outputs": [
    {
     "name": "stdout",
     "output_type": "stream",
     "text": [
      "Введите число на русском языке (от 0 до 999): шестьсот пятьдесят три\n",
      "653\n"
     ]
    }
   ],
   "source": [
    "#Написать функцию, которая преобразует целое число (от 0 до 999) из текстового представления на русском языке в число типа int. Пример: to_int('тридцать три') -> 33\n",
    "\n",
    "def to_int(text):\n",
    "    numbers = {\n",
    "        'ноль': 0, 'один': 1, 'два': 2, 'три': 3, 'четыре': 4,\n",
    "        'пять': 5, 'шесть': 6, 'семь': 7, 'восемь': 8, 'девять': 9,\n",
    "        'десять': 10, 'одиннадцать': 11, 'двенадцать': 12, 'тринадцать': 13,\n",
    "        'четырнадцать': 14, 'пятнадцать': 15, 'шестнадцать': 16,\n",
    "        'семнадцать': 17, 'восемнадцать': 18, 'девятнадцать': 19,\n",
    "        'двадцать': 20, 'тридцать': 30, 'сорок': 40, 'пятьдесят': 50,\n",
    "        'шестьдесят': 60, 'семьдесят': 70, 'восемьдесят': 80, 'девяносто': 90,\n",
    "        'сто': 100, 'двести': 200, 'триста': 300, 'четыреста': 400,\n",
    "        'пятьсот': 500, 'шестьсот': 600, 'семьсот': 700, 'восемьсот': 800,\n",
    "        'девятьсот': 900\n",
    "    }\n",
    "    text = input('Введите число на русском языке (от 0 до 999): ')\n",
    "    words = text.split()\n",
    "    number = 0\n",
    "    for word in words:\n",
    "        if word in numbers:\n",
    "            number += numbers[word]\n",
    "\n",
    "    return number\n",
    "result = to_int('тридцать три')\n",
    "print(result)"
   ]
  },
  {
   "cell_type": "code",
   "execution_count": 13,
   "metadata": {},
   "outputs": [],
   "source": [
    "#Написать функцию, которая преобразует целое число (от 0 до 999) из текстового представления на русском языке в число типа int. И сообщает об ошибках (выводит на экран описание типа ошибки и возвращает число -1). Пример: to_int('тридцать три') -> 33 Пример: to_int(\"сто сорок тридцать два сто\") -> -1 Вывод: тридцать - некорректное расположение в числе.\n",
    "\n"
   ]
  },
  {
   "cell_type": "code",
   "execution_count": null,
   "metadata": {},
   "outputs": [],
   "source": []
  }
 ],
 "metadata": {
  "kernelspec": {
   "display_name": "Python 3 (ipykernel)",
   "language": "python",
   "name": "python3"
  },
  "language_info": {
   "codemirror_mode": {
    "name": "ipython",
    "version": 3
   },
   "file_extension": ".py",
   "mimetype": "text/x-python",
   "name": "python",
   "nbconvert_exporter": "python",
   "pygments_lexer": "ipython3",
   "version": "3.11.4"
  },
  "toc": {
   "base_numbering": 1,
   "nav_menu": {},
   "number_sections": true,
   "sideBar": true,
   "skip_h1_title": false,
   "title_cell": "Table of Contents",
   "title_sidebar": "Contents",
   "toc_cell": true,
   "toc_position": {},
   "toc_section_display": true,
   "toc_window_display": false
  },
  "varInspector": {
   "cols": {
    "lenName": 16,
    "lenType": 16,
    "lenVar": 40
   },
   "kernels_config": {
    "python": {
     "delete_cmd_postfix": "",
     "delete_cmd_prefix": "del ",
     "library": "var_list.py",
     "varRefreshCmd": "print(var_dic_list())"
    },
    "r": {
     "delete_cmd_postfix": ") ",
     "delete_cmd_prefix": "rm(",
     "library": "var_list.r",
     "varRefreshCmd": "cat(var_dic_list()) "
    }
   },
   "types_to_exclude": [
    "module",
    "function",
    "builtin_function_or_method",
    "instance",
    "_Feature"
   ],
   "window_display": false
  }
 },
 "nbformat": 4,
 "nbformat_minor": 4
}
