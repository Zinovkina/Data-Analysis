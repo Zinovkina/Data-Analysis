{
 "cells": [
  {
   "cell_type": "markdown",
   "metadata": {
    "toc": true
   },
   "source": [
    "<h1>Table of Contents<span class=\"tocSkip\"></span></h1>\n",
    "<div class=\"toc\"><ul class=\"toc-item\"><li><span><a href=\"#Тема-2.-Строки-и-коллекции-в-языке-Python\" data-toc-modified-id=\"Тема-2.-Строки-и-коллекции-в-языке-Python-1\"><span class=\"toc-item-num\">1&nbsp;&nbsp;</span>Тема 2. Строки и коллекции в языке Python</a></span></li><li><span><a href=\"#Задания\" data-toc-modified-id=\"Задания-2\"><span class=\"toc-item-num\">2&nbsp;&nbsp;</span>Задания</a></span><ul class=\"toc-item\"><li><span><a href=\"#1.3.-Операторы-сравнения.-Логические-операторы.-Инструкция-ветвления-if...else\" data-toc-modified-id=\"1.3.-Операторы-сравнения.-Логические-операторы.-Инструкция-ветвления-if...else-2.1\"><span class=\"toc-item-num\">2.1&nbsp;&nbsp;</span>1.3. Операторы сравнения. Логические операторы. Инструкция ветвления if...else</a></span></li></ul></li></ul></div>"
   ]
  },
  {
   "cell_type": "markdown",
   "metadata": {},
   "source": [
    "\n",
    "# Тема 2. Строки и коллекции в языке Python"
   ]
  },
  {
   "cell_type": "markdown",
   "metadata": {},
   "source": [
    "# Задания\n",
    "\n",
    "Выполните задания\n",
    "\n"
   ]
  },
  {
   "cell_type": "markdown",
   "metadata": {},
   "source": [
    "## 1.3. Операторы сравнения. Логические операторы. Инструкция ветвления if...else\n",
    "\n",
    "1. Определить время года по номеру месяца.\n",
    "2. Определить минимальное значение среди чисел $a, b, c, d$ (не использовать стандартные функции max и min).\n",
    "3. Напишите программу, которая переводит оценку из 100-балльной системы в пятибалльную по правилам, принятым в университете.\n",
    "4. Вычислить значение $F: F=1$, если цифра $7$ входит в запись заданного трехзначного числа, и $0$ – в противном случае.\n",
    "5. Даны два отрезка $[a;b]$ и $[c;d]$. Найдите их пересечение. Если отрезки не пересекаются, то выдайте сообщение.\n",
    "6. По номеру года определите, является ли данный год високосным. (год является високосным, если его номер кратен 4, но не кратен 100, а также если он кратен 400).\n",
    "7. Для отрезков длины a, b, c определить, можно ли из них составить треугольник и является ли этот треугольник прямоугольным.\n",
    "8. Напишите программу для решения уравнения\n",
    "$$ ax^2+bx+c=0 $$\n",
    "Коэффициенты $a, b, c$ могут быть любыми числами. \n",
    "9. Вводится целое число. Выведите его на экран и допишите к нему слова «рубль», «рубля» или «рублей» в зависимости от значения. Алгоритм: \n",
    "- исключение: если число оканчивается на 11, 12, 13 или 14, добавляем слово «рублей»; \n",
    "- если число оканчивается на 1, добавляем слово «рубль»; \n",
    "- если число оканчивается на 2, 3 или 4, добавляем слово «рубля»; \n",
    "- если число оканчивается на цифры 5, 6, 7, 8, 9 или 0, добавляем слово «рублей».\n",
    "\n",
    "10. Пользователь поочередно вводит координаты точки в декартовой системе координат. Определить, какой четверти принадлежит данная точка или на какой оси она находится. Расположение точки вывести на экран. Найти произведение номера четверти на расстояние от этой точки до начала координат и вывести его на экран. Если точка лежит на оси, считать, что номер четверти равен 0.\n",
    "11. Выведите значение заданного целого числа от 0 до 999 прописью. Например, «сто девяносто один» для числа 191, «одиннадцать» для числа 11. \n",
    "12. Вычислите значение выражения, которое состоит из целых чисел и знаков «+» и «-». Выражение вводится как символьная строка.\n",
    "13. Пользователь поочередно вводит 2 строки. Определите, какая строка длиннее и на сколько символов, а какая строка стоит раньше в лексикографическом порядке. Собрать результирующую строку, которая бы содержала 1 и 2 строки, разделенные переносом строки.\n",
    "14. Реализовать калькулятор, который принимает от пользователя через пробел строку следующего вида: «a op b», где a и b – некоторые числа, а ‘op’ определяет оператор и может принимать значения $«+,-,*,/,**,%»$. В зависимости от оператора с помощью форматирования строк вывести результат в виде: «a + b = 3 + 2 = 5», где была получена строка «3 + 2». Для операций возведения в степень и деления по модулю использовать вместо знака оператора соответствующие выражения. Например, для строки «2 ** 3» должно быть выведено «a в степени b = 2 в степени 3 = 8».\n",
    "15. Напишите программу, которая в зависимости от введенного пользователем числа N, осуществляет вывод N кошек на экран. Пусть 1<= N <=10. Примечание: кошки при N=3 выглядят примерно так\n",
    "```\n",
    " /\\__/\\ /\\__/\\ /\\__/\\\n",
    " /@ @\\ /@ @\\ /@ @\\\n",
    " (~~0~~) (~~0~~) (~~0~~)\n",
    "```\n",
    "16. Имеются два n – мерных вектора x и y, которые задают координаты n точек на плоскости (случайные целые числа). Найти наиболее близкие друг другу точки.\n",
    "17. Из множества целых чисел от 1 до N выделить множество N2 числа, кратные 2, множество N3 – кратные 3, множество N 6 – кратные 6 (т.е. кратные и 2 и 3), множество N 23 – кратные либо 2, либо 3.\n",
    "18. Даны m (m>1) слов. Найти общее количество заданной буквы в этих словах.\n",
    "19. Даны m (m>1) слов. В каком из них доля (в %) заданной буквы больше."
   ]
  },
  {
   "cell_type": "code",
   "execution_count": 1,
   "metadata": {},
   "outputs": [
    {
     "name": "stdout",
     "output_type": "stream",
     "text": [
      "Введите номер месяца (от 1 до 12): 4\n",
      "Время года: Весна\n"
     ]
    }
   ],
   "source": [
    "#Определить время года по номеру месяца.\n",
    "\n",
    "def determine_season(month):\n",
    "    if month in (1, 2, 12):\n",
    "        season = \"Зима\"\n",
    "    elif month in (3, 4, 5):\n",
    "        season = \"Весна\"\n",
    "    elif month in (6, 7, 8):\n",
    "        season = \"Лето\"\n",
    "    elif month in (9, 10, 11):\n",
    "        season = \"Осень\"\n",
    "    else:\n",
    "        season = \"Некорректный номер месяца\"\n",
    "    return season\n",
    "\n",
    "month_number = int(input(\"Введите номер месяца (от 1 до 12): \"))\n",
    "season = determine_season(month_number)\n",
    "print(\"Время года:\", season)"
   ]
  },
  {
   "cell_type": "code",
   "execution_count": 3,
   "metadata": {},
   "outputs": [
    {
     "name": "stdout",
     "output_type": "stream",
     "text": [
      "Введите число a: 6\n",
      "Введите число b: 7\n",
      "Введите число c: 5\n",
      "Введите число d: 2\n",
      "Минимальное значение: 2\n"
     ]
    }
   ],
   "source": [
    "#Определить минимальное значение среди чисел  𝑎,𝑏,𝑐,𝑑 (не использовать стандартные функции max и min).\n",
    "\n",
    "def find_minimum(a, b, c, d):\n",
    "    minimum = a\n",
    "    if b < minimum:\n",
    "        minimum = b\n",
    "    if c < minimum:\n",
    "        minimum = c\n",
    "    if d < minimum:\n",
    "        minimum = d\n",
    "    return minimum\n",
    "\n",
    "a = input(\"Введите число a: \")\n",
    "b = input(\"Введите число b: \")\n",
    "c = input(\"Введите число c: \")\n",
    "d = input(\"Введите число d: \")\n",
    "\n",
    "minimum_value = find_minimum(a, b, c, d)\n",
    "print(\"Минимальное значение:\", minimum_value)"
   ]
  },
  {
   "cell_type": "code",
   "execution_count": 6,
   "metadata": {},
   "outputs": [
    {
     "name": "stdout",
     "output_type": "stream",
     "text": [
      "Введите оценку по 100-балльной системе: 89\n",
      "Оценка в пятибалльной системе: 4\n"
     ]
    }
   ],
   "source": [
    "#Напишите программу, которая переводит оценку из 100-балльной системы в пятибалльную по правилам, принятым в университете\n",
    "\n",
    "def convert_to_five_point(grade):\n",
    "    if grade >= 90:\n",
    "        return 5\n",
    "    elif grade >= 80:\n",
    "        return 4\n",
    "    elif grade >= 70:\n",
    "        return 3\n",
    "    elif grade >= 60:\n",
    "        return 2\n",
    "    else:\n",
    "        return 1\n",
    "\n",
    "grade_100 = float(input(\"Введите оценку по 100-балльной системе: \"))\n",
    "\n",
    "grade_five = convert_to_five_point(grade_100)\n",
    "print(\"Оценка в пятибалльной системе:\", grade_five)"
   ]
  },
  {
   "cell_type": "code",
   "execution_count": 13,
   "metadata": {},
   "outputs": [
    {
     "name": "stdout",
     "output_type": "stream",
     "text": [
      "Введите трехзначное число: 456\n",
      "Значение F: 0\n"
     ]
    }
   ],
   "source": [
    "#Вычислить значение  𝐹:𝐹=1, если цифра  7 входит в запись заданного трехзначного числа, и  0 – в противном случае.\n",
    "\n",
    "def calculate_F(number):\n",
    "    number_str = str(number)\n",
    "    if '7' in number_str:\n",
    "        return 1\n",
    "    else:\n",
    "        return 0\n",
    "number = int(input(\"Введите трехзначное число: \"))\n",
    "F = calculate_F(number)\n",
    "print(\"Значение F:\", F)"
   ]
  },
  {
   "cell_type": "code",
   "execution_count": 12,
   "metadata": {},
   "outputs": [
    {
     "name": "stdout",
     "output_type": "stream",
     "text": [
      "Введите начальную точку первого отрезка (a): 2\n",
      "Введите конечную точку первого отрезка (b): 7\n",
      "Введите начальную точку второго отрезка (c): 2\n",
      "Введите конечную точку второго отрезка (d): 6\n",
      "Пересечение отрезков: 2.0 - 6.0\n"
     ]
    }
   ],
   "source": [
    "#Даны два отрезка  [𝑎;𝑏]  и  [𝑐;𝑑]. Найдите их пересечение. Если отрезки не пересекаются, то выдайте сообщение.\n",
    "\n",
    "def find_intersection(a, b, c, d):\n",
    "    if b < c or d < a:\n",
    "        return \"Отрезки не пересекаются\"\n",
    "    \n",
    "    start = max(a, c)\n",
    "    end = min(b, d)\n",
    "    \n",
    "    return start, end\n",
    "\n",
    "a = float(input(\"Введите начальную точку первого отрезка (a): \"))\n",
    "b = float(input(\"Введите конечную точку первого отрезка (b): \"))\n",
    "c = float(input(\"Введите начальную точку второго отрезка (c): \"))\n",
    "d = float(input(\"Введите конечную точку второго отрезка (d): \"))\n",
    "intersection = find_intersection(a, b, c, d)\n",
    "\n",
    "if intersection == \"Отрезки не пересекаются\":\n",
    "    print(intersection)\n",
    "else:\n",
    "    start, end = intersection\n",
    "    print(\"Пересечение отрезков:\", start, \"-\", end)"
   ]
  },
  {
   "cell_type": "code",
   "execution_count": null,
   "metadata": {},
   "outputs": [],
   "source": [
    "#По номеру года определите, является ли данный год високосным. (год является високосным, если его номер кратен 4, но не кратен 100, а также если он кратен 400).\n",
    "def is_leap_year(year):\n",
    "    if year % 4 == 0 and (year % 100 != 0 or year % 400 == 0):\n",
    "        return True\n",
    "    else:\n",
    "        return False\n",
    "\n",
    "year = int(input(\"Введите год: \"))\n",
    "\n",
    "if is_leap_year(year):\n",
    "    print(year, \"год - високосный!\")\n",
    "else:\n",
    "    print(year, \"год - не високосный.\")"
   ]
  },
  {
   "cell_type": "code",
   "execution_count": 34,
   "metadata": {},
   "outputs": [
    {
     "name": "stdout",
     "output_type": "stream",
     "text": [
      "Введите длину первого отрезка (a): 7\n",
      "Введите длину второго отрезка (b): 9\n",
      "Введите длину третьего отрезка (c): 0\n",
      "Из этих отрезков нельзя составить треугольник\n"
     ]
    }
   ],
   "source": [
    "#Для отрезков длины a, b, c определить, можно ли из них составить треугольник и является ли этот треугольник прямоугольным.\n",
    "\n",
    "def can_form_triangle(a, b, c):\n",
    "    if a + b > c and a + c > b and b + c > a:\n",
    "        return True\n",
    "    else:\n",
    "        return False\n",
    "    \n",
    "def is_right_triangle(a, b, c):\n",
    "    if a**2 + b**2 == c**2 or a**2 + c**2 == b**2 or b**2 + c**2 == a**2:\n",
    "        return True\n",
    "    else:\n",
    "        return False\n",
    "    \n",
    "a = float(input(\"Введите длину первого отрезка (a): \"))\n",
    "b = float(input(\"Введите длину второго отрезка (b): \"))\n",
    "c = float(input(\"Введите длину третьего отрезка (c): \"))\n",
    "\n",
    "if can_form_triangle(a, b, c):\n",
    "    print(\"Из этих отрезков можно составить треугольник\")\n",
    "    \n",
    "    if is_right_triangle(a, b, c):\n",
    "        print(\"Треугольник является прямоугольным\")\n",
    "    else:\n",
    "        print(\"Треугольник не является прямоугольным\")\n",
    "else:\n",
    "    print(\"Из этих отрезков нельзя составить треугольник\")"
   ]
  },
  {
   "cell_type": "code",
   "execution_count": 35,
   "metadata": {},
   "outputs": [
    {
     "name": "stdout",
     "output_type": "stream",
     "text": [
      "Введите коэффициент a: 2\n",
      "Введите коэффициент b: 3\n",
      "Введите коэффициент c: 4\n",
      "Уравнение имеет два комплексных корня:\n",
      "x1 = (-0.75+1.1989578808281798j)\n",
      "x2 = (-0.75-1.1989578808281798j)\n"
     ]
    }
   ],
   "source": [
    "#Напишите программу для решения уравнения 𝑎𝑥2+𝑏𝑥+𝑐=0 Коэффициенты  𝑎,𝑏,𝑐 могут быть любыми числами.\n",
    "\n",
    "import cmath\n",
    "a = float(input(\"Введите коэффициент a: \"))\n",
    "b = float(input(\"Введите коэффициент b: \"))\n",
    "c = float(input(\"Введите коэффициент c: \"))\n",
    "D = b**2 - 4*a*c\n",
    "if D > 0:\n",
    "    x1 = (-b + cmath.sqrt(D))/(2*a)\n",
    "    x2 = (-b - cmath.sqrt(D))/(2*a)\n",
    "    print(\"Уравнение имеет два действительных корня:\")\n",
    "    print(\"x1 =\", x1)\n",
    "    print(\"x2 =\", x2)\n",
    "elif D == 0:\n",
    "    x = -b/(2*a)\n",
    "    print(\"Уравнение имеет один действительный корень:\")\n",
    "    print(\"x =\", x)\n",
    "else:\n",
    "    x1 = (-b + cmath.sqrt(D))/(2*a)\n",
    "    x2 = (-b - cmath.sqrt(D))/(2*a)\n",
    "    print(\"Уравнение имеет два комплексных корня:\")\n",
    "    print(\"x1 =\", x1)\n",
    "    print(\"x2 =\", x2)"
   ]
  },
  {
   "cell_type": "code",
   "execution_count": 42,
   "metadata": {},
   "outputs": [
    {
     "name": "stdout",
     "output_type": "stream",
     "text": [
      "Введите целое число: 2344\n",
      "2344 рубля\n"
     ]
    }
   ],
   "source": [
    "#Вводится целое число. Выведите его на экран и допишите к нему слова «рубль», «рубля» или «рублей» в зависимости от значения. Алгоритм:\n",
    "#исключение: если число оканчивается на 11, 12, 13 или 14, добавляем слово «рублей»;\n",
    "#если число оканчивается на 1, добавляем слово «рубль»;\n",
    "#если число оканчивается на 2, 3 или 4, добавляем слово «рубля»;\n",
    "#если число оканчивается на цифры 5, 6, 7, 8, 9 или 0, добавляем слово «рублей».\n",
    "\n",
    "number = int(input(\"Введите целое число: \"))\n",
    "last_digit = number % 10\n",
    "last_two_digits = number % 100\n",
    "if last_two_digits in [11, 12, 13, 14]:\n",
    "    result = str(number) + \" рублей\"\n",
    "elif last_digit == 1:\n",
    "    result = str(number) + \" рубль\"\n",
    "elif last_digit in [2, 3, 4]:\n",
    "    result = str(number) + \" рубля\"\n",
    "else:\n",
    "    result = str(number) + \" рублей\"\n",
    "print(result)"
   ]
  },
  {
   "cell_type": "code",
   "execution_count": 46,
   "metadata": {},
   "outputs": [
    {
     "name": "stdout",
     "output_type": "stream",
     "text": [
      "Введите координату x: 0\n",
      "Введите координату y: 3\n",
      "Расположение точки: Точка лежит на оси Y\n",
      "Произведение номера четверти на расстояние: 0.0\n"
     ]
    }
   ],
   "source": [
    "#Пользователь поочередно вводит координаты точки в декартовой системе координат. Определить, какой четверти принадлежит данная точка или на какой оси она находится. Расположение точки вывести на экран. Найти произведение номера четверти на расстояние от этой точки до начала координат и вывести его на экран. Если точка лежит на оси, считать, что номер четверти равен 0.\n",
    "\n",
    "x = float(input(\"Введите координату x: \"))\n",
    "y = float(input(\"Введите координату y: \"))\n",
    "if x > 0 and y > 0:\n",
    "    quadrant = 1\n",
    "    location = \"Точка принадлежит первой четверти\"\n",
    "elif x < 0 and y > 0:\n",
    "    quadrant = 2\n",
    "    location = \"Точка принадлежит второй четверти\"\n",
    "elif x < 0 and y < 0:\n",
    "    quadrant = 3\n",
    "    location = \"Точка принадлежит третьей четверти\"\n",
    "elif x > 0 and y < 0:\n",
    "    quadrant = 4\n",
    "    location = \"Точка принадлежит четвертой четверти\"\n",
    "elif x == 0 and y != 0:\n",
    "    quadrant = 0\n",
    "    location = \"Точка лежит на оси Y\"\n",
    "elif y == 0 and x != 0:\n",
    "    quadrant = 0\n",
    "    location = \"Точка лежит на оси X\"\n",
    "else:\n",
    "    quadrant = 0\n",
    "    location = \"Точка лежит в начале координат\"\n",
    "distance = (x**2 + y**2)**0.5\n",
    "product = quadrant * distance\n",
    "print(\"Расположение точки:\", location)\n",
    "print(\"Произведение номера четверти на расстояние:\", product)"
   ]
  },
  {
   "cell_type": "code",
   "execution_count": 57,
   "metadata": {},
   "outputs": [
    {
     "name": "stdout",
     "output_type": "stream",
     "text": [
      "Введите число от 0 до 999: 20\n",
      "двадцать \n"
     ]
    }
   ],
   "source": [
    "#Выведите значение заданного целого числа от 0 до 999 прописью. Например, «сто девяносто один» для числа 191, «одиннадцать» для числа 11.\n",
    "\n",
    "def number_to_words(number):\n",
    "    ones_place = [\n",
    "        \"\", \"один\", \"два\", \"три\", \"четыре\", \"пять\", \"шесть\", \"семь\", \"восемь\", \"девять\",\n",
    "        \"десять\", \"одиннадцать\", \"двенадцать\", \"тринадцать\", \"четырнадцать\", \"пятнадцать\",\n",
    "        \"шестнадцать\", \"семнадцать\", \"восемнадцать\", \"девятнадцать\"\n",
    "    ]\n",
    "    tens_place = [\n",
    "        \"\", \"\", \"двадцать\", \"тридцать\", \"сорок\", \"пятьдесят\", \"шестьдесят\", \"семьдесят\",\n",
    "        \"восемьдесят\", \"девяносто\"\n",
    "    ]\n",
    "    hundreds_place = [\n",
    "        \"\", \"сто\", \"двести\", \"триста\", \"четыреста\", \"пятьсот\", \"шестьсот\", \"семьсот\",\n",
    "        \"восемьсот\", \"девятьсот\"\n",
    "    ]\n",
    "\n",
    "    if number == 0:\n",
    "        return \"ноль\"\n",
    "    hundreds = number // 100\n",
    "    number %= 100\n",
    "    \n",
    "    if number < 20:\n",
    "        words = ones_place[number]\n",
    "    else:\n",
    "        tens = number // 10\n",
    "        ones = number % 10\n",
    "        words = tens_place[tens] + \" \" + ones_place[ones]\n",
    "    if hundreds > 0:\n",
    "        words = hundreds_place[hundreds] + \" \" + words\n",
    "    return words\n",
    "\n",
    "number = int(input(\"Введите число от 0 до 999: \"))\n",
    "words = number_to_words(number)\n",
    "print(words)"
   ]
  },
  {
   "cell_type": "code",
   "execution_count": 63,
   "metadata": {},
   "outputs": [
    {
     "name": "stdout",
     "output_type": "stream",
     "text": [
      "Введите выражение: 50+10\n",
      "Результат: 60\n"
     ]
    }
   ],
   "source": [
    "#Вычислите значение выражения, которое состоит из целых чисел и знаков «+» и «-». Выражение вводится как символьная строка.\n",
    "\n",
    "def evaluate_expression(expression):\n",
    "    try:\n",
    "        result = eval(expression)  # Оцениваем выражение с помощью eval()\n",
    "        return result\n",
    "    except:\n",
    "        return \"Ошибка: Некорректное выражение!\"\n",
    "\n",
    "expression = input(\"Введите выражение: \")\n",
    "result = evaluate_expression(expression)\n",
    "print(\"Результат:\", result)"
   ]
  },
  {
   "cell_type": "code",
   "execution_count": 65,
   "metadata": {},
   "outputs": [
    {
     "name": "stdout",
     "output_type": "stream",
     "text": [
      "Введите первую строку: привет как дела\n",
      "Введите вторую строку: привет все хорошо\n",
      "привет как дела\n",
      "привет все хорошо\n",
      "Вторая строка длиннее на 2 символов.\n",
      "Вторая строка стоит раньше в лексикографическом порядке.\n"
     ]
    }
   ],
   "source": [
    "#Пользователь поочередно вводит 2 строки. Определите, какая строка длиннее и на сколько символов, а какая строка стоит раньше в лексикографическом порядке. Собрать результирующую строку, которая бы содержала 1 и 2 строки, разделенные переносом строки.\n",
    "\n",
    "string1 = input(\"Введите первую строку: \")\n",
    "string2 = input(\"Введите вторую строку: \")\n",
    "\n",
    "length1 = len(string1)\n",
    "length2 = len(string2)\n",
    "\n",
    "if length1 > length2:\n",
    "    diff_length = length1 - length2\n",
    "    longer_string = \"Первая строка длиннее на {} символов.\".format(diff_length)\n",
    "elif length2 > length1:\n",
    "    diff_length = length2 - length1\n",
    "    longer_string = \"Вторая строка длиннее на {} символов.\".format(diff_length)\n",
    "else:\n",
    "    longer_string = \"Обе строки имеют одинаковую длину.\"\n",
    "    \n",
    "if string1 < string2:\n",
    "    lex_order = \"Первая строка стоит раньше в лексикографическом порядке.\"\n",
    "elif string2 < string1:\n",
    "    lex_order = \"Вторая строка стоит раньше в лексикографическом порядке.\"\n",
    "else:\n",
    "    lex_order = \"Обе строки равны в лексикографическом порядке.\"\n",
    "    \n",
    "result = string1 + \"\\n\" + string2 + \"\\n\" + longer_string + \"\\n\" + lex_order\n",
    "\n",
    "print(result)\n",
    "\n"
   ]
  },
  {
   "cell_type": "code",
   "execution_count": 10,
   "metadata": {},
   "outputs": [
    {
     "name": "stdout",
     "output_type": "stream",
     "text": [
      "Введите выражение в формате 'a op b': 8 - 0\n",
      "8.0 - 0.0 = 8.0 - 0.0 = 8.0\n"
     ]
    }
   ],
   "source": [
    "#Реализовать калькулятор, который принимает от пользователя через пробел строку следующего вида: «a op b», где a и b – некоторые числа, а ‘op’ определяет оператор и может принимать значения  «+,−,∗,/,∗∗,. В зависимости от оператора с помощью форматирования строк вывести результат в виде: «a + b = 3 + 2 = 5», где была получена строка «3 + 2». Для операций возведения в степень и деления по модулю использовать вместо знака оператора соответствующие выражения. Например, для строки «2 ** 3» должно быть выведено «a в степени b = 2 в степени 3 = 8».\n",
    "\n",
    "def calculator(expression):\n",
    "    a, op, b = expression.split()\n",
    "\n",
    "    a = float(a)\n",
    "    b = float(b)\n",
    "    result = None\n",
    "\n",
    "    if op == '+':\n",
    "        result = a + b\n",
    "    elif op == '-':\n",
    "        result = a - b\n",
    "    elif op == '*':\n",
    "        result = a * b\n",
    "    elif op == '/':\n",
    "        result = a / b\n",
    "    elif op == '**':\n",
    "        result = a ** b\n",
    "    elif op == '%':\n",
    "        result = a % b\n",
    "\n",
    "    if result is not None:\n",
    "        print(f\"{a} {op} {b} = {a} {op} {b} = {result}\")\n",
    "    else:\n",
    "        print(\"Неподдерживаемый оператор.\")\n",
    "\n",
    "expression = input(\"Введите выражение в формате 'a op b': \")\n",
    "calculator(expression)"
   ]
  },
  {
   "cell_type": "code",
   "execution_count": 14,
   "metadata": {},
   "outputs": [
    {
     "name": "stdout",
     "output_type": "stream",
     "text": [
      "Введите число N (1 <= N <= 10): 7\n",
      " /\\__/\\  /\\__/\\  /\\__/\\  /\\__/\\  /\\__/\\  /\\__/\\  /\\__/\\ \n",
      " /@  @\\  /@  @\\  /@  @\\  /@  @\\  /@  @\\  /@  @\\  /@  @\\ \n",
      "(~~0~~) (~~0~~) (~~0~~) (~~0~~) (~~0~~) (~~0~~) (~~0~~) \n"
     ]
    }
   ],
   "source": [
    "#Напишите программу, которая в зависимости от введенного пользователем числа N, осуществляет вывод N кошек на экран. Пусть 1<= N <=10. Примечание: кошки при N=3 выглядят примерно так\n",
    " #/\\__/\\ /\\__/\\ /\\__/\\\n",
    " #/@ @\\ /@ @\\ /@ @\\\n",
    " #(~~0~~) (~~0~~) (~~0~~)\n",
    "    \n",
    "def print_cats(N):\n",
    "    if 1 <= N <= 10:\n",
    "        top_part = \" /\\__/\\ \" * N\n",
    "        bottom_part = \" /@  @\\ \" * N\n",
    "        middle_part = \"(~~0~~) \" * N\n",
    "        \n",
    "        print(top_part)\n",
    "        print(bottom_part)\n",
    "        print(middle_part)\n",
    "    else:\n",
    "        print(\"Число N должно быть от 1 до 10\")\n",
    "        \n",
    "N = int(input(\"Введите число N (1 <= N <= 10): \"))\n",
    "print_cats(N)"
   ]
  },
  {
   "cell_type": "code",
   "execution_count": 17,
   "metadata": {},
   "outputs": [
    {
     "name": "stdout",
     "output_type": "stream",
     "text": [
      "Ближайшие точки: (0, 1)\n",
      "Расстояние между ними: 4.0\n"
     ]
    }
   ],
   "source": [
    "#Имеются два n – мерных вектора x и y, которые задают координаты n точек на плоскости (случайные целые числа). Найти наиболее близкие друг другу точки.\n",
    "\n",
    "import random\n",
    "\n",
    "def distance (a,b):\n",
    "    return ((a[0] - b[0]) ** 2 + (a[1] - b[1]) ** 2) ** 0.5\n",
    "n = 5\n",
    "x, y = [], []\n",
    "\n",
    "for i in range(n):\n",
    "    x.append(random.randint(1,100))\n",
    "    y.append(random.randint(1,100))\n",
    "    \n",
    "closest_pair = None\n",
    "min_distance = float('inf')\n",
    "\n",
    "for i in range(n):\n",
    "    for j in range(i+1, n):\n",
    "        d = distance ([x[i], y[i]], [x[j], y[j]])\n",
    "        if d < min_distance:\n",
    "            min_distance, closest_pair = d, (i, j)\n",
    "            \n",
    "print(\"Ближайшие точки:\", closest_pair)\n",
    "print(\"Расстояние между ними:\", min_distance)"
   ]
  },
  {
   "cell_type": "code",
   "execution_count": 18,
   "metadata": {},
   "outputs": [
    {
     "name": "stdout",
     "output_type": "stream",
     "text": [
      "Введите число N: 8\n",
      "Множество чисел, кратных 2: {8, 2, 4, 6}\n",
      "Множество чисел, кратных 3: {3, 6}\n",
      "Множество чисел, кратных 6: {6}\n",
      "Множество чисел, кратных 2 или 3: {2, 3, 4, 6, 8}\n"
     ]
    }
   ],
   "source": [
    "#Из множества целых чисел от 1 до N выделить множество N2 числа, кратные 2, множество N3 – кратные 3, множество N 6 – кратные 6 (т.е. кратные и 2 и 3), множество N 23 – кратные либо 2, либо 3.\n",
    "\n",
    "def calculate_multiples(N):\n",
    "    numbers_set = set(range(1, N + 1))\n",
    "    multiples_2 = {x for x in numbers_set if x % 2 == 0}\n",
    "    multiples_3 = {x for x in numbers_set if x % 3 == 0}\n",
    "    multiples_6 = {x for x in numbers_set if x % 6 == 0}\n",
    "    multiples_23 = {x for x in numbers_set if x % 2 == 0 or x % 3 == 0}\n",
    "\n",
    "    return multiples_2, multiples_3, multiples_6, multiples_23\n",
    "\n",
    "\n",
    "N = int(input(\"Введите число N: \"))\n",
    "\n",
    "result = calculate_multiples(N)\n",
    "multiples_2, multiples_3, multiples_6, multiples_23 = result\n",
    "\n",
    "print(f\"Множество чисел, кратных 2: {multiples_2}\")\n",
    "print(f\"Множество чисел, кратных 3: {multiples_3}\")\n",
    "print(f\"Множество чисел, кратных 6: {multiples_6}\")\n",
    "print(f\"Множество чисел, кратных 2 или 3: {multiples_23}\")"
   ]
  },
  {
   "cell_type": "code",
   "execution_count": 19,
   "metadata": {},
   "outputs": [
    {
     "name": "stdout",
     "output_type": "stream",
     "text": [
      "Введите количество слов: 4\n",
      "Введите слово: кукла\n",
      "Введите слово: мама\n",
      "Введите слово: память\n",
      "Введите слово: коза\n",
      "Введите букву: а\n",
      "Общее количество буквы 'а' в заданных словах: 5\n"
     ]
    }
   ],
   "source": [
    "#Даны m (m>1) слов. Найти общее количество заданной буквы в этих словах.\n",
    "\n",
    "def count_letter_occurrences(words, letter):\n",
    "    count = 0\n",
    "    for word in words:\n",
    "        count += word.count(letter)\n",
    "    return count\n",
    "\n",
    "\n",
    "m = int(input(\"Введите количество слов: \"))\n",
    "words = []\n",
    "for i in range(m):\n",
    "    word = input(\"Введите слово: \")\n",
    "    words.append(word)\n",
    "\n",
    "letter = input(\"Введите букву: \")\n",
    "\n",
    "total_occurrences = count_letter_occurrences(words, letter)\n",
    "print(f\"Общее количество буквы '{letter}' в заданных словах: {total_occurrences}\")"
   ]
  },
  {
   "cell_type": "code",
   "execution_count": null,
   "metadata": {},
   "outputs": [],
   "source": [
    "#Даны m (m>1) слов. В каком из них доля (в %) заданной буквы больше.\n",
    "\n"
   ]
  }
 ],
 "metadata": {
  "kernelspec": {
   "display_name": "Python 3 (ipykernel)",
   "language": "python",
   "name": "python3"
  },
  "language_info": {
   "codemirror_mode": {
    "name": "ipython",
    "version": 3
   },
   "file_extension": ".py",
   "mimetype": "text/x-python",
   "name": "python",
   "nbconvert_exporter": "python",
   "pygments_lexer": "ipython3",
   "version": "3.11.4"
  },
  "toc": {
   "base_numbering": 1,
   "nav_menu": {},
   "number_sections": true,
   "sideBar": true,
   "skip_h1_title": false,
   "title_cell": "Table of Contents",
   "title_sidebar": "Contents",
   "toc_cell": true,
   "toc_position": {},
   "toc_section_display": true,
   "toc_window_display": false
  },
  "varInspector": {
   "cols": {
    "lenName": 16,
    "lenType": 16,
    "lenVar": 40
   },
   "kernels_config": {
    "python": {
     "delete_cmd_postfix": "",
     "delete_cmd_prefix": "del ",
     "library": "var_list.py",
     "varRefreshCmd": "print(var_dic_list())"
    },
    "r": {
     "delete_cmd_postfix": ") ",
     "delete_cmd_prefix": "rm(",
     "library": "var_list.r",
     "varRefreshCmd": "cat(var_dic_list()) "
    }
   },
   "types_to_exclude": [
    "module",
    "function",
    "builtin_function_or_method",
    "instance",
    "_Feature"
   ],
   "window_display": false
  }
 },
 "nbformat": 4,
 "nbformat_minor": 4
}
